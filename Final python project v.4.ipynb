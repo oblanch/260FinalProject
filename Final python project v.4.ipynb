{
 "cells": [
  {
   "cell_type": "markdown",
   "metadata": {},
   "source": [
    "# Induction Braking: System of the Future or Impossibility?\n",
    "Names: Owen Blanchard, Jacob Swift, John Florence\n",
    "uniqname: oblanch, jtflo, jgswift\n",
    "\n",
    "# Abrstract\n",
    "Some mechanisms today utilize a physical phenomenon called induction braking to slow/stop the rotation of a \n",
    "metallic wheel while simultaneously harvesting the rotational energy held by said wheel. A variation of induction \n",
    "(also called eddy current) braking is used in some trains as a means of converting kinetic energy into electrical/heat energy without damaging brake pads. Induction breaking works by fixing a conducting metal disc to your wheel and placing a horseshoe-shaped electromagnet around the disc. A powerful magnetic field created by the electromagnet induces eddy currents in the conducting disc, creating a magnetic force which opposes the direction of motion. \n",
    "\n",
    "While Induction Braking has many potential advantages over traditional friction-based braking, there are a few important disadvantages that make it infeasible (at this time) for consumer vehicles. The primary issue is the amount of energy required to produce a magnetic field great enough to stop quickly is far greater than a car battery is capable. Furthermore, as induction brakes engage to slow a vehicle, the force with which they slow that vehicle is asymptotically approaching zero, meaning without some extra mechanism to fully stop, you would keep rolling slower and slower forever.\n",
    "\n"
   ]
  },
  {
   "cell_type": "markdown",
   "metadata": {},
   "source": [
    "## Experimental Background\n",
    "We set out to determine whether induction braking is a feasible alternative to friction braking in a normal car. To do so we needed to answer a number of questions. Our primary question was, “Can induction braking be feasible in consumer vehicles?”, but we also had to ask: What materials should we use? How quickly must our car be able to stop? If we can’t stop, what speed is slow enough to be considered “safely stopped”? How large would the magnetic field producing eddy currents have to be? Is induction braking energy-efficient? etc.  \n",
    "\t\n",
    "A number of these questions could be answered by simply assigning an arbitrary value. For example, we decided for our car to be considered “safely stopped”, its velocity must be below $\\frac{1}{2}$ of a mile per hour ($\\frac{1}{4}$ m/s). Other questions, however, required a great deal of online research and estimation, for example: which materials should we use? This question required a lot of guesswork because we needed a material that fulfilled a number of characteristics: it needed to be conductive, have a high melting point, not deform easily, and must be readily available.\n",
    "We set out to determine whether induction braking has feasible applications in modern cars, by answering the questions laid out above using an iPython simulation we will be able to make an educated claim as to whether or not induction braking is plausible.\n",
    "\n",
    "In order to answer our question “Can induction braking be used in consumer vehicles” we decided to set up a loop of code that will take our given values and put them through a series of relationships until the values that we are looking for are returned (those values being power, velocity, and acceleration). In this process, we used the following equations:\n",
    "\n",
    "$1$) Area Enclosed: $$A = \\frac{1}{2}\\pi r^{2}$$\n",
    "\n",
    "$2$) Time Rate of Change of Area Enclosed: $$\\frac{dA}{dt} = \\frac{fA}{\\pi}$$\n",
    "\n",
    "$3$) Magnetic Flux: $${\\Phi}_{B} = \\oint{B \\cdot dA} = BA$$\n",
    "\n",
    "$4$) Time Rate of Change of ${\\Phi}_{B}$: $$\\frac{d{\\Phi}_{B}}{dt} = B\\frac{dA}{dt}$$\n",
    "\n",
    "$5$) Faraday’s Law: $$\\epsilon = -\\frac{d{\\Phi}_{B}}{dt}$$\n",
    "\n",
    "$6$) Ohm’s Law: $${I}_{induced} = \\frac{\\epsilon}{R}$$\n",
    "\n",
    "$7$) Power: $$P = I^{2} R$$\n",
    "\n",
    "$8$) Torque: $$\\tau = \\frac{P}{f}$$\n",
    "\n",
    "$9$) Angular Acceleration ($I$ = moment of intertia): $$\\alpha = \\frac{\\tau}{I}$$\n",
    "\n",
    "$10$) Frequency: $$\\omega = \\int{\\alpha dt}$$\n",
    "\n"
   ]
  },
  {
   "cell_type": "code",
   "execution_count": 9,
   "metadata": {},
   "outputs": [],
   "source": [
    "import numpy as np\n",
    "import matplotlib.pyplot as plt\n",
    "from IPython.display import Image"
   ]
  },
  {
   "cell_type": "code",
   "execution_count": 10,
   "metadata": {},
   "outputs": [
    {
     "name": "stdout",
     "output_type": "stream",
     "text": [
      "INTRINSIC\n",
      "Radius: 0.25 m\n",
      "Thickness: 0.03 m\n",
      "Density: 8960 kg/m^3\n",
      "\n",
      "DERIVED\n",
      "Area: 0.19634954084936207 M^2\n",
      "Volume: 0.005890486225480862 m^3\n",
      "Mass: 52.778756580308524 kg\n",
      "Moment of Inertia: 1.6493361431346414\n",
      "Resistance of disc: 2.3994099050085704e-05 Ohms\n",
      "\n",
      "MOTION\n",
      "frequency in revolutions per second: 100 rad/s\n",
      "Translations velocity: 25.0 M/S\n",
      "\n",
      "BRAKING\n",
      "Magnetic field strength: 0.5 T\n",
      "Disc area affected by B field: 0.09817477042468103 M^2\n"
     ]
    }
   ],
   "source": [
    "mu0 = 4*np.pi*1e-7\n",
    "\n",
    "# Here we define all of the characteristics of the conducting disc that are important for our calculations\n",
    "# our disc is made of copper\n",
    "\n",
    "\n",
    "# Intrinsic quantities of our disc\n",
    "radius = .25 # radius of our disc (meters)\n",
    "thickness = .03 # thickness of our disc (meters)\n",
    "density = 8960 # density of our disc (kg/M^3)\n",
    "resistivity = 1.68e-8 # resistivity of copper\n",
    "\n",
    "# Derived quantities of our disc\n",
    "area = np.pi*radius**2 # Area of one side (M^2)\n",
    "volume = (np.pi)*(radius**2)*(thickness) # volume of our disc (M^3)\n",
    "mass = volume*density # mass of our disc (kg)\n",
    "mI = (.5)*(mass)*(radius**2) # moment of inertia of our disc\n",
    "resistance = (resistivity*((np.pi*radius) + (2*radius)))/(thickness**2) # estimated total resistance of current path\n",
    "\n",
    "# Quantities to set the disc in motion\n",
    "frequency = 100 # frequency of revolution of our disc in (rad/s)\n",
    "translational_velocity = frequency*radius #velocity of our disc if it were set on the ground to roll\n",
    "\n",
    "# Quantites related to the braking apparatus\n",
    "B_field = .5 # magnitude of the B-field through our disc (T)\n",
    "area_in_B_field = (np.pi)*(radius**2)*(.5) #the surface area of the 1/2 of the disc inside the B-field\n",
    "\n",
    "\n",
    "\n",
    "\n",
    "print(\"INTRINSIC\")\n",
    "print(\"Radius:\", radius, \"m\")\n",
    "print(\"Thickness:\", thickness, \"m\")\n",
    "print(\"Density:\", density, \"kg/m^3\")\n",
    "print()\n",
    "print(\"DERIVED\")\n",
    "print(\"Area:\", area, \"M^2\")\n",
    "print(\"Volume:\", volume, \"m^3\")\n",
    "print(\"Mass:\", mass, \"kg\")\n",
    "print(\"Moment of Inertia:\", mI)\n",
    "print(\"Resistance of disc:\", resistance,\"Ohms\")\n",
    "print()\n",
    "print(\"MOTION\")\n",
    "print(\"frequency in revolutions per second:\", frequency,\"rad/s\")\n",
    "print(\"Translations velocity:\", translational_velocity,\"M/S\")\n",
    "print()\n",
    "print(\"BRAKING\")\n",
    "print(\"Magnetic field strength:\", B_field, \"T\")\n",
    "print(\"Disc area affected by B field:\", area_in_B_field,\"M^2\")"
   ]
  },
  {
   "cell_type": "code",
   "execution_count": 11,
   "metadata": {},
   "outputs": [],
   "source": [
    "# Here we will define the function that allows us to calculate \n",
    "# the torque on a disc due to the induced eddy currents. \n",
    "\n",
    "def calc_torque_from_flux(b_field, frequency, area_in_b_field, resistance):\n",
    "    \n",
    "    delta_area = (1/(2*np.pi))*(2)*frequency*area_in_b_field #rate of change of area in B-field\n",
    "    \n",
    "    delta_flux = b_field*delta_area # rate of change of flux \n",
    "    \n",
    "    induced_current = -delta_flux/resistance # induced current in the conductive disc\n",
    "    \n",
    "    power = (induced_current**2)*(resistance) # Power generated by the eddy currents in the disc\n",
    "    \n",
    "    torque = power/(frequency*np.pi*2) # Torque experienced by the disc from eddy current forces\n",
    "    \n",
    "    return torque\n",
    "\n",
    "torque = calc_torque_from_flux(B_field,frequency,area_in_B_field,resistance)\n",
    "acceleration = torque/mI"
   ]
  },
  {
   "cell_type": "code",
   "execution_count": 12,
   "metadata": {},
   "outputs": [],
   "source": [
    "# Here we initialize all of the arrays where we store values \n",
    "# as well as the time-related variables needed for a loop\n",
    "\n",
    "t = 3 # the number of seconds that will elapse during each braking simulation\n",
    "dt = 1e-4 # time increments\n",
    "\n",
    "x = np.arange(0,t,dt) # This array acts as the x-axis (time axis) for our plots\n",
    "\n",
    "\n",
    "stored_energy=np.zeros(np.shape(x)) # array for the rotational kinetic energy stored by the disc over time\n",
    "frequency_array = np.zeros(np.shape(x))# array for the freqnency of the disc's rotation over time\n",
    "acceleration_array = np.zeros(np.shape(x))# array for the angular acceleration of the disc over time\n",
    "velocity_array = np.zeros(np.shape(x))# array for the translational velocity of the disc over time\n",
    "speed_array = np.zeros(np.shape(x))"
   ]
  },
  {
   "cell_type": "code",
   "execution_count": 13,
   "metadata": {
    "scrolled": false
   },
   "outputs": [
    {
     "name": "stdout",
     "output_type": "stream",
     "text": [
      "initial velocity: 31.25 m/s\n",
      "Road speed: 69.90625 mph\n",
      "final speed 3.6746962650321784 mph\n"
     ]
    },
    {
     "data": {
      "image/png": "[encoded data removed]",
      "text/plain": [
       "<Figure size 432x288 with 1 Axes>"
      ]
     },
     "metadata": {
      "needs_background": "light"
     },
     "output_type": "display_data"
    }
   ],
   "source": [
    "# Here we execute a loop to simulate eddy current braking at 4 different initial speeds\n",
    "\n",
    "#125 rad/s = 70mph\n",
    "#99 rad/s = 55mph\n",
    "#63 rad/s = 35mph\n",
    "#36 rad/s = 20mph\n",
    "\n",
    "frequency = 125\n",
    "translational_velocity = frequency*radius\n",
    "speed = translational_velocity*2.237\n",
    "\n",
    "print(\"initial velocity:\", translational_velocity, \"m/s\")\n",
    "print(\"Road speed:\", speed, \"mph\")\n",
    "\n",
    "\n",
    "for n,time in enumerate (x):\n",
    "    \n",
    "    frequency = frequency - acceleration*dt\n",
    "    torque = calc_torque_from_flux(B_field,frequency,area_in_B_field,resistance)\n",
    "    acceleration = torque/mI\n",
    "\n",
    "    acceleration_array[n] = acceleration\n",
    "    frequency_array[n] = frequency\n",
    "    stored_energy[n] = .5*mI*frequency**2\n",
    "    velocity_array[n] = radius*frequency\n",
    "    speed_array[n] = velocity_array[n]*2.237\n",
    "    \n",
    "\n",
    "plt.plot(x,speed_array)\n",
    "plt.ylabel(\"velocity (mph)\")\n",
    "plt.xlabel(\"time (s)\")\n",
    "plt.title(\"Translational velocity vs. Time (B = .5T, 70mph)\")\n",
    "print(\"final speed\", speed_array[-1], \"mph\")\n",
    "\n",
    "#plt.savefig(\"20mph.5.jpg\")"
   ]
  },
  {
   "cell_type": "markdown",
   "metadata": {},
   "source": [
    "## Explanation of our experimental setup\n",
    "\n",
    "Our induction braking simulation is similar in construction to the RC circuit we simulated in Python Homework 5. The first task was to create a set of variables that modeled our conductive disc. Each quantity corresponds to a physical property; radius, thickness, density, etc. Next, we filled in the gaps by defining a new set of variables that depend on the intrinsic characteristics of our disc, things like mass, moment of inertia, and internal resistance. \n",
    "\n",
    "Once we had our disc (or at least a reliable mathematical model of one) the next task was to set it in motion. To do so we defined a new quantity called “frequency” that describes the angular frequency (in rad/s) at which our disc would be “rolling”. By changing the initial frequency value we are able to control the “speed” of our wheel to test different initial conditions and the effectiveness of induction braking at different speeds. \n",
    "\n",
    "Once we had defined a virtual wheel that rotated with an initial frequency, $\\omega$, the next piece to incorporate was the actual electromagnetic braking system. We decided to set the magnetic field strength to three different values for three different trial groups, $0.1~T$, $0.25~T$, and $0.5~T$. The last quantity to define was the proportion of our conducting disc that was inside of the magnetic field at any given time. We decided that our electromagnet would cover 50% of the disc.\n",
    "\n",
    "Using the mathematical relationships highlighted above we were able to take the intrinsic quantities associated with our setup (metal wheel spinning inside a uniform magnetic field) and calculate the rate of change of magnetic flux through the disc ($2,3$). By “rate of change of flux” we mean the area of the disc that moves through the uniform B-field each second. Dividing the negative of our calculated delta flux by the current path’s internal resistance we were able to arrive at the magnitude of the induced current inside our conductive disc ($5,6$). The value of induced current allows us to calculate the amount of power our simulated brakes produce ($7$) and in turn the net torque on our disc ($8$). Once we had found the formula to calculate the torque on a spinning disc in a magnetic field, we were able to create a function that takes in different variables and spits out the correct  torque. As with any translational force and mass, we were able to divide the torque on our wheel by its moment of inertia to find the angular acceleration our disc is experiencing at any given moment in time. \n",
    "\t\n",
    "\n",
    "We took this torque function and used it to create a for loop that first calculates the torque on the disc, second finds the acceleration, third updates the frequency using the current value of acceleration, and fourth and lastly stores the values of frequency, acceleration, rotational energy, and translational velocity. Our last step was using the arrays full of frequency, acceleration, energy, and velocity values to plot our data and display/analyze our results."
   ]
  },
  {
   "cell_type": "code",
   "execution_count": 14,
   "metadata": {
    "scrolled": false
   },
   "outputs": [
    {
     "ename": "FileNotFoundError",
     "evalue": "[Errno 2] No such file or directory: '260projectgraphs.jpeg'",
     "output_type": "error",
     "traceback": [
      "\u001b[1;31m---------------------------------------------------------------------------\u001b[0m",
      "\u001b[1;31mFileNotFoundError\u001b[0m                         Traceback (most recent call last)",
      "\u001b[1;32m<ipython-input-14-d17600f275b9>\u001b[0m in \u001b[0;36m<module>\u001b[1;34m\u001b[0m\n\u001b[1;32m----> 1\u001b[1;33m \u001b[0mImage\u001b[0m\u001b[1;33m(\u001b[0m\u001b[0mfilename\u001b[0m\u001b[1;33m=\u001b[0m\u001b[1;34m\"260projectgraphs.jpeg\"\u001b[0m\u001b[1;33m,\u001b[0m \u001b[0mwidth\u001b[0m\u001b[1;33m=\u001b[0m\u001b[1;36m1600\u001b[0m\u001b[1;33m,\u001b[0m\u001b[0mheight\u001b[0m\u001b[1;33m=\u001b[0m\u001b[1;36m1600\u001b[0m\u001b[1;33m)\u001b[0m\u001b[1;33m\u001b[0m\u001b[1;33m\u001b[0m\u001b[0m\n\u001b[0m",
      "\u001b[1;32m~\\Anaconda3\\lib\\site-packages\\IPython\\core\\display.py\u001b[0m in \u001b[0;36m__init__\u001b[1;34m(self, data, url, filename, format, embed, width, height, retina, unconfined, metadata)\u001b[0m\n\u001b[0;32m   1202\u001b[0m         \u001b[0mself\u001b[0m\u001b[1;33m.\u001b[0m\u001b[0munconfined\u001b[0m \u001b[1;33m=\u001b[0m \u001b[0munconfined\u001b[0m\u001b[1;33m\u001b[0m\u001b[1;33m\u001b[0m\u001b[0m\n\u001b[0;32m   1203\u001b[0m         super(Image, self).__init__(data=data, url=url, filename=filename, \n\u001b[1;32m-> 1204\u001b[1;33m                 metadata=metadata)\n\u001b[0m\u001b[0;32m   1205\u001b[0m \u001b[1;33m\u001b[0m\u001b[0m\n\u001b[0;32m   1206\u001b[0m         \u001b[1;32mif\u001b[0m \u001b[0mself\u001b[0m\u001b[1;33m.\u001b[0m\u001b[0mwidth\u001b[0m \u001b[1;32mis\u001b[0m \u001b[1;32mNone\u001b[0m \u001b[1;32mand\u001b[0m \u001b[0mself\u001b[0m\u001b[1;33m.\u001b[0m\u001b[0mmetadata\u001b[0m\u001b[1;33m.\u001b[0m\u001b[0mget\u001b[0m\u001b[1;33m(\u001b[0m\u001b[1;34m'width'\u001b[0m\u001b[1;33m,\u001b[0m \u001b[1;33m{\u001b[0m\u001b[1;33m}\u001b[0m\u001b[1;33m)\u001b[0m\u001b[1;33m:\u001b[0m\u001b[1;33m\u001b[0m\u001b[1;33m\u001b[0m\u001b[0m\n",
      "\u001b[1;32m~\\Anaconda3\\lib\\site-packages\\IPython\\core\\display.py\u001b[0m in \u001b[0;36m__init__\u001b[1;34m(self, data, url, filename, metadata)\u001b[0m\n\u001b[0;32m    625\u001b[0m             \u001b[0mself\u001b[0m\u001b[1;33m.\u001b[0m\u001b[0mmetadata\u001b[0m \u001b[1;33m=\u001b[0m \u001b[1;33m{\u001b[0m\u001b[1;33m}\u001b[0m\u001b[1;33m\u001b[0m\u001b[1;33m\u001b[0m\u001b[0m\n\u001b[0;32m    626\u001b[0m \u001b[1;33m\u001b[0m\u001b[0m\n\u001b[1;32m--> 627\u001b[1;33m         \u001b[0mself\u001b[0m\u001b[1;33m.\u001b[0m\u001b[0mreload\u001b[0m\u001b[1;33m(\u001b[0m\u001b[1;33m)\u001b[0m\u001b[1;33m\u001b[0m\u001b[1;33m\u001b[0m\u001b[0m\n\u001b[0m\u001b[0;32m    628\u001b[0m         \u001b[0mself\u001b[0m\u001b[1;33m.\u001b[0m\u001b[0m_check_data\u001b[0m\u001b[1;33m(\u001b[0m\u001b[1;33m)\u001b[0m\u001b[1;33m\u001b[0m\u001b[1;33m\u001b[0m\u001b[0m\n\u001b[0;32m    629\u001b[0m \u001b[1;33m\u001b[0m\u001b[0m\n",
      "\u001b[1;32m~\\Anaconda3\\lib\\site-packages\\IPython\\core\\display.py\u001b[0m in \u001b[0;36mreload\u001b[1;34m(self)\u001b[0m\n\u001b[0;32m   1233\u001b[0m         \u001b[1;34m\"\"\"Reload the raw data from file or URL.\"\"\"\u001b[0m\u001b[1;33m\u001b[0m\u001b[1;33m\u001b[0m\u001b[0m\n\u001b[0;32m   1234\u001b[0m         \u001b[1;32mif\u001b[0m \u001b[0mself\u001b[0m\u001b[1;33m.\u001b[0m\u001b[0membed\u001b[0m\u001b[1;33m:\u001b[0m\u001b[1;33m\u001b[0m\u001b[1;33m\u001b[0m\u001b[0m\n\u001b[1;32m-> 1235\u001b[1;33m             \u001b[0msuper\u001b[0m\u001b[1;33m(\u001b[0m\u001b[0mImage\u001b[0m\u001b[1;33m,\u001b[0m\u001b[0mself\u001b[0m\u001b[1;33m)\u001b[0m\u001b[1;33m.\u001b[0m\u001b[0mreload\u001b[0m\u001b[1;33m(\u001b[0m\u001b[1;33m)\u001b[0m\u001b[1;33m\u001b[0m\u001b[1;33m\u001b[0m\u001b[0m\n\u001b[0m\u001b[0;32m   1236\u001b[0m             \u001b[1;32mif\u001b[0m \u001b[0mself\u001b[0m\u001b[1;33m.\u001b[0m\u001b[0mretina\u001b[0m\u001b[1;33m:\u001b[0m\u001b[1;33m\u001b[0m\u001b[1;33m\u001b[0m\u001b[0m\n\u001b[0;32m   1237\u001b[0m                 \u001b[0mself\u001b[0m\u001b[1;33m.\u001b[0m\u001b[0m_retina_shape\u001b[0m\u001b[1;33m(\u001b[0m\u001b[1;33m)\u001b[0m\u001b[1;33m\u001b[0m\u001b[1;33m\u001b[0m\u001b[0m\n",
      "\u001b[1;32m~\\Anaconda3\\lib\\site-packages\\IPython\\core\\display.py\u001b[0m in \u001b[0;36mreload\u001b[1;34m(self)\u001b[0m\n\u001b[0;32m    650\u001b[0m         \u001b[1;34m\"\"\"Reload the raw data from file or URL.\"\"\"\u001b[0m\u001b[1;33m\u001b[0m\u001b[1;33m\u001b[0m\u001b[0m\n\u001b[0;32m    651\u001b[0m         \u001b[1;32mif\u001b[0m \u001b[0mself\u001b[0m\u001b[1;33m.\u001b[0m\u001b[0mfilename\u001b[0m \u001b[1;32mis\u001b[0m \u001b[1;32mnot\u001b[0m \u001b[1;32mNone\u001b[0m\u001b[1;33m:\u001b[0m\u001b[1;33m\u001b[0m\u001b[1;33m\u001b[0m\u001b[0m\n\u001b[1;32m--> 652\u001b[1;33m             \u001b[1;32mwith\u001b[0m \u001b[0mopen\u001b[0m\u001b[1;33m(\u001b[0m\u001b[0mself\u001b[0m\u001b[1;33m.\u001b[0m\u001b[0mfilename\u001b[0m\u001b[1;33m,\u001b[0m \u001b[0mself\u001b[0m\u001b[1;33m.\u001b[0m\u001b[0m_read_flags\u001b[0m\u001b[1;33m)\u001b[0m \u001b[1;32mas\u001b[0m \u001b[0mf\u001b[0m\u001b[1;33m:\u001b[0m\u001b[1;33m\u001b[0m\u001b[1;33m\u001b[0m\u001b[0m\n\u001b[0m\u001b[0;32m    653\u001b[0m                 \u001b[0mself\u001b[0m\u001b[1;33m.\u001b[0m\u001b[0mdata\u001b[0m \u001b[1;33m=\u001b[0m \u001b[0mf\u001b[0m\u001b[1;33m.\u001b[0m\u001b[0mread\u001b[0m\u001b[1;33m(\u001b[0m\u001b[1;33m)\u001b[0m\u001b[1;33m\u001b[0m\u001b[1;33m\u001b[0m\u001b[0m\n\u001b[0;32m    654\u001b[0m         \u001b[1;32melif\u001b[0m \u001b[0mself\u001b[0m\u001b[1;33m.\u001b[0m\u001b[0murl\u001b[0m \u001b[1;32mis\u001b[0m \u001b[1;32mnot\u001b[0m \u001b[1;32mNone\u001b[0m\u001b[1;33m:\u001b[0m\u001b[1;33m\u001b[0m\u001b[1;33m\u001b[0m\u001b[0m\n",
      "\u001b[1;31mFileNotFoundError\u001b[0m: [Errno 2] No such file or directory: '260projectgraphs.jpeg'"
     ]
    }
   ],
   "source": [
    "Image(filename=\"260projectgraphs.jpeg\", width=1600,height=1600)"
   ]
  },
  {
   "cell_type": "code",
   "execution_count": 15,
   "metadata": {},
   "outputs": [
    {
     "ename": "FileNotFoundError",
     "evalue": "[Errno 2] No such file or directory: '260projectTable.jpeg'",
     "output_type": "error",
     "traceback": [
      "\u001b[1;31m---------------------------------------------------------------------------\u001b[0m",
      "\u001b[1;31mFileNotFoundError\u001b[0m                         Traceback (most recent call last)",
      "\u001b[1;32m<ipython-input-15-b31490eaeb24>\u001b[0m in \u001b[0;36m<module>\u001b[1;34m\u001b[0m\n\u001b[1;32m----> 1\u001b[1;33m \u001b[0mImage\u001b[0m\u001b[1;33m(\u001b[0m\u001b[0mfilename\u001b[0m\u001b[1;33m=\u001b[0m\u001b[1;34m\"260projectTable.jpeg\"\u001b[0m\u001b[1;33m,\u001b[0m \u001b[0mwidth\u001b[0m\u001b[1;33m=\u001b[0m\u001b[1;36m1200\u001b[0m\u001b[1;33m,\u001b[0m\u001b[0mheight\u001b[0m\u001b[1;33m=\u001b[0m\u001b[1;36m1600\u001b[0m\u001b[1;33m)\u001b[0m\u001b[1;33m\u001b[0m\u001b[1;33m\u001b[0m\u001b[0m\n\u001b[0m",
      "\u001b[1;32m~\\Anaconda3\\lib\\site-packages\\IPython\\core\\display.py\u001b[0m in \u001b[0;36m__init__\u001b[1;34m(self, data, url, filename, format, embed, width, height, retina, unconfined, metadata)\u001b[0m\n\u001b[0;32m   1202\u001b[0m         \u001b[0mself\u001b[0m\u001b[1;33m.\u001b[0m\u001b[0munconfined\u001b[0m \u001b[1;33m=\u001b[0m \u001b[0munconfined\u001b[0m\u001b[1;33m\u001b[0m\u001b[1;33m\u001b[0m\u001b[0m\n\u001b[0;32m   1203\u001b[0m         super(Image, self).__init__(data=data, url=url, filename=filename, \n\u001b[1;32m-> 1204\u001b[1;33m                 metadata=metadata)\n\u001b[0m\u001b[0;32m   1205\u001b[0m \u001b[1;33m\u001b[0m\u001b[0m\n\u001b[0;32m   1206\u001b[0m         \u001b[1;32mif\u001b[0m \u001b[0mself\u001b[0m\u001b[1;33m.\u001b[0m\u001b[0mwidth\u001b[0m \u001b[1;32mis\u001b[0m \u001b[1;32mNone\u001b[0m \u001b[1;32mand\u001b[0m \u001b[0mself\u001b[0m\u001b[1;33m.\u001b[0m\u001b[0mmetadata\u001b[0m\u001b[1;33m.\u001b[0m\u001b[0mget\u001b[0m\u001b[1;33m(\u001b[0m\u001b[1;34m'width'\u001b[0m\u001b[1;33m,\u001b[0m \u001b[1;33m{\u001b[0m\u001b[1;33m}\u001b[0m\u001b[1;33m)\u001b[0m\u001b[1;33m:\u001b[0m\u001b[1;33m\u001b[0m\u001b[1;33m\u001b[0m\u001b[0m\n",
      "\u001b[1;32m~\\Anaconda3\\lib\\site-packages\\IPython\\core\\display.py\u001b[0m in \u001b[0;36m__init__\u001b[1;34m(self, data, url, filename, metadata)\u001b[0m\n\u001b[0;32m    625\u001b[0m             \u001b[0mself\u001b[0m\u001b[1;33m.\u001b[0m\u001b[0mmetadata\u001b[0m \u001b[1;33m=\u001b[0m \u001b[1;33m{\u001b[0m\u001b[1;33m}\u001b[0m\u001b[1;33m\u001b[0m\u001b[1;33m\u001b[0m\u001b[0m\n\u001b[0;32m    626\u001b[0m \u001b[1;33m\u001b[0m\u001b[0m\n\u001b[1;32m--> 627\u001b[1;33m         \u001b[0mself\u001b[0m\u001b[1;33m.\u001b[0m\u001b[0mreload\u001b[0m\u001b[1;33m(\u001b[0m\u001b[1;33m)\u001b[0m\u001b[1;33m\u001b[0m\u001b[1;33m\u001b[0m\u001b[0m\n\u001b[0m\u001b[0;32m    628\u001b[0m         \u001b[0mself\u001b[0m\u001b[1;33m.\u001b[0m\u001b[0m_check_data\u001b[0m\u001b[1;33m(\u001b[0m\u001b[1;33m)\u001b[0m\u001b[1;33m\u001b[0m\u001b[1;33m\u001b[0m\u001b[0m\n\u001b[0;32m    629\u001b[0m \u001b[1;33m\u001b[0m\u001b[0m\n",
      "\u001b[1;32m~\\Anaconda3\\lib\\site-packages\\IPython\\core\\display.py\u001b[0m in \u001b[0;36mreload\u001b[1;34m(self)\u001b[0m\n\u001b[0;32m   1233\u001b[0m         \u001b[1;34m\"\"\"Reload the raw data from file or URL.\"\"\"\u001b[0m\u001b[1;33m\u001b[0m\u001b[1;33m\u001b[0m\u001b[0m\n\u001b[0;32m   1234\u001b[0m         \u001b[1;32mif\u001b[0m \u001b[0mself\u001b[0m\u001b[1;33m.\u001b[0m\u001b[0membed\u001b[0m\u001b[1;33m:\u001b[0m\u001b[1;33m\u001b[0m\u001b[1;33m\u001b[0m\u001b[0m\n\u001b[1;32m-> 1235\u001b[1;33m             \u001b[0msuper\u001b[0m\u001b[1;33m(\u001b[0m\u001b[0mImage\u001b[0m\u001b[1;33m,\u001b[0m\u001b[0mself\u001b[0m\u001b[1;33m)\u001b[0m\u001b[1;33m.\u001b[0m\u001b[0mreload\u001b[0m\u001b[1;33m(\u001b[0m\u001b[1;33m)\u001b[0m\u001b[1;33m\u001b[0m\u001b[1;33m\u001b[0m\u001b[0m\n\u001b[0m\u001b[0;32m   1236\u001b[0m             \u001b[1;32mif\u001b[0m \u001b[0mself\u001b[0m\u001b[1;33m.\u001b[0m\u001b[0mretina\u001b[0m\u001b[1;33m:\u001b[0m\u001b[1;33m\u001b[0m\u001b[1;33m\u001b[0m\u001b[0m\n\u001b[0;32m   1237\u001b[0m                 \u001b[0mself\u001b[0m\u001b[1;33m.\u001b[0m\u001b[0m_retina_shape\u001b[0m\u001b[1;33m(\u001b[0m\u001b[1;33m)\u001b[0m\u001b[1;33m\u001b[0m\u001b[1;33m\u001b[0m\u001b[0m\n",
      "\u001b[1;32m~\\Anaconda3\\lib\\site-packages\\IPython\\core\\display.py\u001b[0m in \u001b[0;36mreload\u001b[1;34m(self)\u001b[0m\n\u001b[0;32m    650\u001b[0m         \u001b[1;34m\"\"\"Reload the raw data from file or URL.\"\"\"\u001b[0m\u001b[1;33m\u001b[0m\u001b[1;33m\u001b[0m\u001b[0m\n\u001b[0;32m    651\u001b[0m         \u001b[1;32mif\u001b[0m \u001b[0mself\u001b[0m\u001b[1;33m.\u001b[0m\u001b[0mfilename\u001b[0m \u001b[1;32mis\u001b[0m \u001b[1;32mnot\u001b[0m \u001b[1;32mNone\u001b[0m\u001b[1;33m:\u001b[0m\u001b[1;33m\u001b[0m\u001b[1;33m\u001b[0m\u001b[0m\n\u001b[1;32m--> 652\u001b[1;33m             \u001b[1;32mwith\u001b[0m \u001b[0mopen\u001b[0m\u001b[1;33m(\u001b[0m\u001b[0mself\u001b[0m\u001b[1;33m.\u001b[0m\u001b[0mfilename\u001b[0m\u001b[1;33m,\u001b[0m \u001b[0mself\u001b[0m\u001b[1;33m.\u001b[0m\u001b[0m_read_flags\u001b[0m\u001b[1;33m)\u001b[0m \u001b[1;32mas\u001b[0m \u001b[0mf\u001b[0m\u001b[1;33m:\u001b[0m\u001b[1;33m\u001b[0m\u001b[1;33m\u001b[0m\u001b[0m\n\u001b[0m\u001b[0;32m    653\u001b[0m                 \u001b[0mself\u001b[0m\u001b[1;33m.\u001b[0m\u001b[0mdata\u001b[0m \u001b[1;33m=\u001b[0m \u001b[0mf\u001b[0m\u001b[1;33m.\u001b[0m\u001b[0mread\u001b[0m\u001b[1;33m(\u001b[0m\u001b[1;33m)\u001b[0m\u001b[1;33m\u001b[0m\u001b[1;33m\u001b[0m\u001b[0m\n\u001b[0;32m    654\u001b[0m         \u001b[1;32melif\u001b[0m \u001b[0mself\u001b[0m\u001b[1;33m.\u001b[0m\u001b[0murl\u001b[0m \u001b[1;32mis\u001b[0m \u001b[1;32mnot\u001b[0m \u001b[1;32mNone\u001b[0m\u001b[1;33m:\u001b[0m\u001b[1;33m\u001b[0m\u001b[1;33m\u001b[0m\u001b[0m\n",
      "\u001b[1;31mFileNotFoundError\u001b[0m: [Errno 2] No such file or directory: '260projectTable.jpeg'"
     ]
    }
   ],
   "source": [
    "Image(filename=\"260projectTable.jpeg\", width=1200,height=1600)"
   ]
  },
  {
   "cell_type": "markdown",
   "metadata": {},
   "source": [
    "# Results\n",
    "\n",
    "Our experiment suggests that using a 1T magnetic field in our brakes is feasable. A 0.5T magnetic field and a 0.25T magentic field simply don't have the stopping power to be safetly applied on the road. During the caclutation phase we ran into a problem when attempting too calculate the resistance of the breaking disk. In the end, we had to estimate our resistance to be $(resistivity*({\\pi}*radius) + (2*radius)))/(thickness^{2})$. Another issue we ran into was deciding what material to choose for our brake assembly. Some conductive metals came too close to their melting points and others weren't conductive enough. We decided to use copper, as it is a common conductor that wouldn't melt under the stress of the battery. To ensure that the wire wouldn't melt, we made the wire have a larger radius. When we came to deciding the strenghts of our magnetic fields, we thought that a 1T field couldn't be effectively produced by a standard 350 V electric car battery. However, we came up with the idea of using a solenoid with thousands of coils to produce a 1T field. The results of our experiment represent the stopping capability of the breaks when they are completely applied (this is effectively one slamming on the brakes as hard as possible). Despite the brakes being 100% activated, the car would still attempt to roll away at low speeds because of the car's idle acceleration. A real-life application of these brakes would require the ability for them to progrerssively rolled on and off in addition to a small friction break to keep the car at rest. In terms of energy efficiency, the car would be terribly ineffiecient if the heat from the wire is not recovered. This is because the car would be putting energy into stopping and accelerating. However, if the car could capture the heat energy given off by the wires, the brakes would be very energy efficient because there would negligible mechanical friction."
   ]
  },
  {
   "cell_type": "code",
   "execution_count": null,
   "metadata": {},
   "outputs": [],
   "source": []
  }
 ],
 "metadata": {
  "kernelspec": {
   "display_name": "Python 3",
   "language": "python",
   "name": "python3"
  },
  "language_info": {
   "codemirror_mode": {
    "name": "ipython",
    "version": 3
   },
   "file_extension": ".py",
   "mimetype": "text/x-python",
   "name": "python",
   "nbconvert_exporter": "python",
   "pygments_lexer": "ipython3",
   "version": "3.7.6"
  }
 },
 "nbformat": 4,
 "nbformat_minor": 2
}
