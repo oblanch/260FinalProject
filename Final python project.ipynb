{
 "cells": [
  {
   "cell_type": "code",
   "execution_count": 122,
   "metadata": {},
   "outputs": [],
   "source": [
    "import numpy as np\n",
    "import matplotlib.pyplot as plt"
   ]
  },
  {
   "cell_type": "code",
   "execution_count": 123,
   "metadata": {},
   "outputs": [],
   "source": [
    "mu0 = 4*np.pi*1e-7"
   ]
  },
  {
   "cell_type": "code",
   "execution_count": 124,
   "metadata": {},
   "outputs": [
    {
     "name": "stdout",
     "output_type": "stream",
     "text": [
      "Radius: 0.25 m\n",
      "Thickness: 0.03 m\n",
      "Area: 0.19634954084936207 M^2\n",
      "Volume: 0.005890486225480862 m^3\n",
      "Mass: 52.778756580308524 kg\n",
      "Moment of Inertia: 1.6493361431346414\n",
      "Resistance of disc: 2.3994099050085704e-05 Ohms\n"
     ]
    }
   ],
   "source": [
    "# Here we define all of the characteristics of the conducting disc that are important for our calculations\n",
    "# our disc is made of copper\n",
    "\n",
    "radius = .25 # radius of our disc (meters)\n",
    "thickness = .03 # thickness of our disc (meters)\n",
    "density = 8960 # density of our disc (kg/M^3)\n",
    "area = np.pi*radius**2\n",
    "volume = (np.pi)*(radius**2)*(thickness) # volume of our disc (M^3)\n",
    "mass = volume*density # mass of our disc (kg)\n",
    "mI = (.5)*(mass)*(radius**2) # moment of inertia of our disc\n",
    "resistivity = 1.68e-8 # resistivity of copper\n",
    "resistance = (resistivity*((np.pi*radius) + (2*radius)))/(thickness**2) # estimated total resistance of current path\n",
    "angular_translational_velocity = frequency*radius\n",
    "\n",
    "print(\"Radius:\", radius, \"m\")\n",
    "print(\"Thickness:\", thickness, \"m\")\n",
    "print(\"Area:\", area, \"M^2\")\n",
    "print(\"Volume:\", volume, \"m^3\")\n",
    "print(\"Mass:\", mass, \"kg\")\n",
    "print(\"Moment of Inertia:\", mI)\n",
    "print(\"Resistance of disc:\", resistance,\"Ohms\")"
   ]
  },
  {
   "cell_type": "code",
   "execution_count": 125,
   "metadata": {},
   "outputs": [
    {
     "name": "stdout",
     "output_type": "stream",
     "text": [
      "Magnetic field strength: 1 T\n",
      "Disc area affected by B field: 0.09817477042468103 M^2\n",
      "frequency in revolutions per second: 15 RPS\n",
      "change of area in B field per second: 0.46875 M^2/s\n"
     ]
    }
   ],
   "source": [
    "# Here we define other constants that are also important\n",
    "# half of the disc is in the B-field at any one time\n",
    "\n",
    "B_field = 1 # magnitude of the B-field through our (T)\n",
    "area_in_B_field = (np.pi)*(radius**2)*(.5) #area of our disc with B-field running through it (M^2)\n",
    "frequency = 15 # frequency of revolution of our disc in (rad/s)\n",
    "delta_area = (1/(2*np.pi))*(2)*frequency*area_in_B_field # Change of area-in-B-field per second for calculating flux (M^2/s) \n",
    "\n",
    "print(\"Magnetic field strength:\", B_field, \"T\")\n",
    "print(\"Disc area affected by B field:\", area_in_B_field,\"M^2\")\n",
    "print(\"frequency in revolutions per second:\", frequency,\"RPS\")\n",
    "print(\"change of area in B field per second:\", delta_area, \"M^2/s\")"
   ]
  },
  {
   "cell_type": "code",
   "execution_count": 126,
   "metadata": {},
   "outputs": [],
   "source": [
    "# Here we will define the variable that we'll use in our loop while simulating induction braking. \n",
    "\n",
    "t = 5\n",
    "dt = 1e-4\n",
    "\n",
    "x = np.arange(0,t,dt)\n",
    "\n",
    "magnetic_flux_through_disc = B_field * area_in_B_field #magnetic flux at a moment in time \n",
    "delta_flux = B_field * delta_area #induced current in our disc at any given time\n",
    "induced_emf = -delta_flux # the induced voltage in our copper disc\n",
    "induced_current = induced_emf/resistance\n",
    "power = (induced_current**2)*(resistance)\n",
    "torque = power/frequency\n",
    "acceleration = torque/mI\n"
   ]
  },
  {
   "cell_type": "code",
   "execution_count": 127,
   "metadata": {},
   "outputs": [],
   "source": [
    "power_array = np.zeros(np.shape(x))\n",
    "frequency_array = np.zeros(np.shape(x))\n",
    "acceleration_array = np.zeros(np.shape(x))"
   ]
  },
  {
   "cell_type": "code",
   "execution_count": 128,
   "metadata": {},
   "outputs": [
    {
     "data": {
      "text/plain": [
       "[<matplotlib.lines.Line2D at 0x123731750>]"
      ]
     },
     "execution_count": 128,
     "metadata": {},
     "output_type": "execute_result"
    },
    {
     "data": {
      "image/png": "[encoded data removed]",
      "text/plain": [
       "<Figure size 432x288 with 1 Axes>"
      ]
     },
     "metadata": {
      "needs_background": "light"
     },
     "output_type": "display_data"
    }
   ],
   "source": [
    "# Here we execute a loop to simulate eddy current braking \n",
    "\n",
    "for n,time in enumerate (x):\n",
    "    frequency = frequency - acceleration*dt\n",
    "    delta_area = (1/(2*np.pi))*(2)*frequency*area_in_B_field\n",
    "    delta_flux = B_field * delta_area\n",
    "    induced_current = -delta_flux/resistance\n",
    "    power = (induced_current**2)*(resistance)\n",
    "    torque = power/(frequency*np.pi*2)\n",
    "    acceleration = torque/mI\n",
    "\n",
    "    acceleration_array[n] = acceleration\n",
    "    power_array[n] = power\n",
    "    frequency_array[n] = frequency\n",
    "    \n",
    "plt.plot(x,frequency_array)\n",
    "plt.plot(x,acceleration_array)\n",
    "plt.plot(x,power_array)"
   ]
  },
  {
   "cell_type": "code",
   "execution_count": null,
   "metadata": {},
   "outputs": [],
   "source": []
  }
 ],
 "metadata": {
  "kernelspec": {
   "display_name": "Python 3",
   "language": "python",
   "name": "python3"
  },
  "language_info": {
   "codemirror_mode": {
    "name": "ipython",
    "version": 3
   },
   "file_extension": ".py",
   "mimetype": "text/x-python",
   "name": "python",
   "nbconvert_exporter": "python",
   "pygments_lexer": "ipython3",
   "version": "3.7.4"
  }
 },
 "nbformat": 4,
 "nbformat_minor": 2
}
